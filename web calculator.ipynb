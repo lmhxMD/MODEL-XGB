{
 "cells": [
  {
   "cell_type": "code",
   "execution_count": 1,
   "id": "2870c65d-1eba-4af8-8f88-bb9515119692",
   "metadata": {},
   "outputs": [],
   "source": [
    "import requests \n",
    "import numpy as np\n",
    "import pandas as pd \n",
    "import sys\n",
    "import xgboost \n",
    "import matplotlib.pyplot  as plt \n",
    "from numpy import interp\n",
    "import matplotlib.pyplot as set_facecolor\n",
    "from xgboost import XGBClassifier \n",
    "from sklearn.ensemble import RandomForestClassifier\n",
    "from sklearn.neural_network import MLPClassifier\n",
    "from sklearn import tree #导入需要的模块\n",
    "from sklearn.ensemble import GradientBoostingClassifier\n",
    "from sklearn.linear_model import LogisticRegression\n",
    "from sklearn.tree import DecisionTreeClassifier\n",
    "from sklearn.neighbors import KNeighborsClassifier\n",
    "from catboost import CatBoostClassifier\n",
    "from sklearn.linear_model import LogisticRegression\n",
    "from sklearn.tree import DecisionTreeClassifier\n",
    "from sklearn.neighbors import KNeighborsClassifier\n",
    "from catboost import CatBoostClassifier\n",
    "import lightgbm as lgb\n",
    "from sklearn.svm import SVC\n",
    "from sklearn.model_selection import train_test_split, GroupKFold, KFold,StratifiedShuffleSplit, GridSearchCV, cross_val_score,StratifiedKFold \n",
    "from sklearn.metrics import accuracy_score \n",
    "import matplotlib \n",
    "import scipy.stats as stats\n",
    "from sklearn import metrics\n",
    "from sklearn.tree import export_graphviz\n",
    "from sklearn.metrics import roc_auc_score,roc_curve,auc\n",
    "from sklearn.model_selection import cross_val_score as CVS\n",
    "import sklearn.metrics as metrics\n",
    "from sklearn.metrics import mean_squared_error as MSE\n",
    "from sklearn.model_selection import GridSearchCV\n",
    "from sklearn.model_selection import RandomizedSearchCV\n",
    "from sklearn.model_selection import cross_validate\n",
    "from sklearn.metrics import mean_absolute_error as mae\n",
    "from sklearn.preprocessing import RobustScaler, normalize\n",
    "from IPython.display import display\n",
    "import seaborn as sns\n",
    "from sklearn.cluster import KMeans\n",
    "from sklearn.preprocessing import MinMaxScaler\n",
    "from sklearn import svm\n",
    "from sklearn.metrics import confusion_matrix\n",
    "from IPython.display import display, Image\n",
    "import shap\n",
    "from sklearn.metrics import classification_report\n",
    "import webbrowser\n",
    "from sklearn.metrics import precision_recall_curve,precision_score,recall_score,average_precision_score,ConfusionMatrixDisplay \n",
    "from sklearn.naive_bayes import GaussianNB,MultinomialNB\n",
    "from imblearn import over_sampling\n",
    "from imblearn.over_sampling import SMOTE,RandomOverSampler\n",
    "from collections import Counter\n",
    "from sklearn.preprocessing import MinMaxScaler,StandardScaler\n",
    "from sklearn.metrics import matthews_corrcoef\n",
    "from sklearn.model_selection import GridSearchCV\n",
    "from xgboost import XGBRegressor\n",
    "import lightgbm as lgb\n",
    "from sklearn.model_selection import train_test_split, GridSearchCV\n",
    "from sklearn.metrics import roc_auc_score\n",
    "from lightgbm import LGBMClassifier\n",
    "import lightgbm as lgb\n",
    "from sklearn.model_selection import RandomizedSearchCV"
   ]
  },
  {
   "cell_type": "code",
   "execution_count": 2,
   "id": "276132a3-4119-4e85-bd3a-cfd0a8e8ccbe",
   "metadata": {},
   "outputs": [
    {
     "name": "stdout",
     "output_type": "stream",
     "text": [
      "   Age  Sex  Race  Histology  N stage  LungMetastasis  Tumor Size  \\\n",
      "0    3    1     2          0        1               0         1.8   \n",
      "1    1    1     2          1        1               0         3.5   \n",
      "2    3    0     2          2        1               1         8.5   \n",
      "3    4    1     2          2        1               1         3.9   \n",
      "4    2    1     2          1        0               0         7.5   \n",
      "\n",
      "   Extrathyroidal extension  \n",
      "0                         0  \n",
      "1                         0  \n",
      "2                         1  \n",
      "3                         1  \n",
      "4                         0  \n"
     ]
    }
   ],
   "source": [
    "# 读取CSV文件\n",
    "data = pd.read_csv('lung1.csv')\n",
    "\n",
    "# 查看数据的前几行\n",
    "print(data.head())\n",
    "from sklearn.model_selection import train_test_split\n",
    "y= data.LungMetastasis #因子变量\n",
    "X= data.drop('LungMetastasis',axis=1)#\n",
    "X_train,Xtest,Y_train,Ytest = train_test_split(X,y,test_size=0.3,random_state=420)\n",
    "traindata = pd.concat([X_train, Y_train], axis=1)\n",
    "testdata = pd.concat([Xtest, Ytest], axis=1)\n",
    "###traindata.to_csv('train_data.csv', index=False)\n",
    "###testdata.to_csv('test_data.csv', index=False)####存为csv文件"
   ]
  },
  {
   "cell_type": "code",
   "execution_count": 3,
   "id": "1c554243-4d4f-4976-9b38-244d1748638b",
   "metadata": {},
   "outputs": [],
   "source": [
    "import pandas as pd\n",
    "from sklearn.model_selection import train_test_split\n",
    "from imblearn.over_sampling import SMOTE\n",
    "# 使用SMOTE进行过采样\n",
    "smote = SMOTE(random_state=42,sampling_strategy=0.3)\n",
    "Xtrain, Ytrain = smote.fit_resample(X_train, Y_train)\n",
    "\n",
    "# 将过采样后的数据集合并\n",
    "###traindata_resampled = pd.concat([Xtrain, Ytrain], axis=1)\n",
    "\n",
    "# 导出过采样后的数据集\n",
    "###traindata_resampled.to_csv('traindata_resampled.csv', index=False)"
   ]
  },
  {
   "cell_type": "code",
   "execution_count": 4,
   "id": "512f457d-1c26-442c-8351-65e573b42d98",
   "metadata": {},
   "outputs": [
    {
     "data": {
      "text/plain": [
       "['modelXGB.pkl']"
      ]
     },
     "execution_count": 4,
     "metadata": {},
     "output_type": "execute_result"
    }
   ],
   "source": [
    "import pandas as pd\n",
    "import xgboost as xgb\n",
    "from sklearn.model_selection import train_test_split\n",
    "from sklearn.metrics import accuracy_score\n",
    "\n",
    "# 训练模型\n",
    "model = XGBClassifier(\n",
    "booster='gbtree',\n",
    "objective='binary:logistic',eval_metric=['auc'],\n",
    "max_depth=50,\n",
    "n_estimators=100,#300\n",
    "min_child_weight=5,\n",
    "learning_rate=0.08,\n",
    "random_state=0,\n",
    "gamma=0.8,\n",
    "reg_lambda=0.1,\n",
    "reg_alpha=0.1,\n",
    "scale_pos_weight=1,\n",
    "subsample=0.5,\n",
    "colsample_bytree=0.8,\n",
    "seed=1,\n",
    "n_jobs=-1)\n",
    "model.fit(Xtrain, Ytrain)\n",
    "# 保存模型\n",
    "import joblib\n",
    "joblib.dump(model, 'modelXGB.pkl')"
   ]
  },
  {
   "cell_type": "code",
   "execution_count": 14,
   "id": "0b7858e2-aa41-41aa-acdf-ab29054f02ba",
   "metadata": {},
   "outputs": [
    {
     "name": "stdout",
     "output_type": "stream",
     "text": [
      "Writing app.py\n"
     ]
    }
   ],
   "source": [
    "%%writefile app.py\n",
    "import streamlit as st\n",
    "import numpy as np\n",
    "import joblib\n",
    "\n",
    "# 加载模型\n",
    "model = joblib.load('modelXGB.pkl')\n",
    "\n",
    "# Streamlit 用户界面\n",
    "st.title(\"Lung metastasis risk probability Calculator\")\n",
    "\n",
    "# 用户输入\n",
    "age = st.selectbox(\"Age(0: ＜25, 1: 25-39, 2: 40-54, 3: 55-69, 4: ≥70)\", options=[0,1,2,3,4])\n",
    "\n",
    "# 性别选择 \n",
    "sex = st.selectbox(\"Sex (0: female, 1: male)\", options=[0, 1])\n",
    "\n",
    "# 种族选择 (0: 白人, 1: 黑人, 2: 亚裔, 3: 其他)\n",
    "race = st.selectbox(\"Race (0: white, 1: black, 2: others)\", options=[0, 1, 2])\n",
    "\n",
    "# 组织学选择 (0: 腺癌, 1: 鳞状细胞癌, 2: 小细胞癌, 3: 其他)\n",
    "histology = st.selectbox(\"Histology (0: MTC, 1: PTC, 2: ATC)\", options=[0, 1, 2])\n",
    "\n",
    "# N 期选择 (0: N0, 1: N1, 2: N2, 3: N3)\n",
    "n_stage = st.selectbox(\"N stage (0: N0, 1: N1)\", options=[0, 1])\n",
    "\n",
    "# 甲状腺外延选择 (0: 否, 1: 是)\n",
    "extrathyroidal_extension = st.selectbox(\"Extrathyroidal extension (0: no, 1: yes)\", options=[0, 1])\n",
    "\n",
    "# 肿瘤大小（连续变量）\n",
    "tumor_size = st.number_input(\"Tumor Size (cm)\", min_value=0.0, value=5.0)\n",
    "\n",
    "# 按钮\n",
    "if st.button(\"Calculate risk\"):\n",
    "    # 创建输入数据\n",
    "    input_data = np.array([[age, sex, race, histology, \n",
    "                            n_stage, extrathyroidal_extension, tumor_size]])\n",
    "\n",
    "    # 进行预测\n",
    "    prediction = model.predict_proba(input_data)[:, 1]  # 获取转移的概率\n",
    "    st.write(f\"The risk probability of lung metastasis: {prediction[0]:.2%}\")"
   ]
  },
  {
   "cell_type": "code",
   "execution_count": null,
   "id": "bc6c002f-d24e-499c-9109-3efb04bd369a",
   "metadata": {},
   "outputs": [],
   "source": [
    "###最后在命令输入符中运行streamlit run app.py"
   ]
  }
 ],
 "metadata": {
  "kernelspec": {
   "display_name": "Python 3 (ipykernel)",
   "language": "python",
   "name": "python3"
  },
  "language_info": {
   "codemirror_mode": {
    "name": "ipython",
    "version": 3
   },
   "file_extension": ".py",
   "mimetype": "text/x-python",
   "name": "python",
   "nbconvert_exporter": "python",
   "pygments_lexer": "ipython3",
   "version": "3.10.15"
  }
 },
 "nbformat": 4,
 "nbformat_minor": 5
}
